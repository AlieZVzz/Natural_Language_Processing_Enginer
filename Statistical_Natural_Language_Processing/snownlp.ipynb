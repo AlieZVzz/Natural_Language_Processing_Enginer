{
 "cells": [
  {
   "cell_type": "code",
   "execution_count": 2,
   "metadata": {
    "collapsed": true
   },
   "outputs": [
    {
     "data": {
      "text/plain": "['hang',\n 'zhou',\n 'xi',\n 'hu',\n 'feng',\n 'jing',\n 'hen',\n 'hao',\n '，',\n 'shi',\n 'lv',\n 'you',\n 'sheng',\n 'di',\n '！']"
     },
     "execution_count": 2,
     "metadata": {},
     "output_type": "execute_result"
    }
   ],
   "source": [
    "from snownlp import SnowNLP\n",
    "s = SnowNLP(\"杭州西湖风景很好，是旅游胜地！\")\n",
    "s.pinyin"
   ]
  },
  {
   "cell_type": "code",
   "execution_count": 3,
   "outputs": [
    {
     "name": "stdout",
     "output_type": "stream",
     "text": [
      "['杭州', '西湖', '风景', '很', '好', '，', '是', '旅游', '胜地', '！']\n"
     ]
    }
   ],
   "source": [
    "print(s.words)"
   ],
   "metadata": {
    "collapsed": false,
    "pycharm": {
     "name": "#%%\n"
    }
   }
  },
  {
   "cell_type": "code",
   "execution_count": 5,
   "outputs": [
    {
     "data": {
      "text/plain": "[0.45263029953948547, -0.45263029953948547, 0]"
     },
     "execution_count": 5,
     "metadata": {},
     "output_type": "execute_result"
    }
   ],
   "source": [
    "s = SnowNLP([[u'这篇', u'文章',u'非常好'],\n",
    "             [u'那篇', u'文章',u'一般般'],\n",
    "             [u'这个']])\n",
    "#s.tf\n",
    "s.sim([u'这篇', u'文章',u'非常好'])# [0.3756070762985226, 0, 0]"
   ],
   "metadata": {
    "collapsed": false,
    "pycharm": {
     "name": "#%%\n"
    }
   }
  }
 ],
 "metadata": {
  "kernelspec": {
   "name": "conda-env-torch-py",
   "language": "python",
   "display_name": "Python [conda env:torch] *"
  },
  "language_info": {
   "codemirror_mode": {
    "name": "ipython",
    "version": 2
   },
   "file_extension": ".py",
   "mimetype": "text/x-python",
   "name": "python",
   "nbconvert_exporter": "python",
   "pygments_lexer": "ipython2",
   "version": "2.7.6"
  }
 },
 "nbformat": 4,
 "nbformat_minor": 0
}